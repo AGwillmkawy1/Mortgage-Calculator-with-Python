{
 "cells": [
  {
   "cell_type": "code",
   "execution_count": 1,
   "id": "3e05cfe8",
   "metadata": {},
   "outputs": [
    {
     "name": "stdout",
     "output_type": "stream",
     "text": [
      "For a 30 year mortgage loan of $ 100000\n",
      "at an annual interest rate of 7.5 %\n",
      "you pay\n",
      "$ 699.21 monthly\n",
      "----------------------------------------\n",
      "Total amount paid will be $ 251715.6\n",
      "----------------------------------------\n"
     ]
    }
   ],
   "source": [
    "def mortgage_calculator(principal, interest, years):\n",
    "    \n",
    "    # convert interest to a monthly percentage\n",
    "    monthly_interest = interest / 1200\n",
    "\n",
    "    # convert years to months\n",
    "    months = years * 12\n",
    "\n",
    "    # calculate the monthly payment\n",
    "    monthly_payment = (principal * monthly_interest * ((1 + monthly_interest) ** months)) / (((1 + monthly_interest) ** months) - 1)\n",
    "\n",
    "    # round the monthly payment to 2 decimal places\n",
    "    monthly_payment = round(monthly_payment, 2)\n",
    "\n",
    "    # calculate the total amount paid\n",
    "    total_paid = monthly_payment * months\n",
    "\n",
    "    # round the total amount paid to 2 decimal places\n",
    "    total_paid = round(total_paid, 2)\n",
    "\n",
    "    # print the results\n",
    "    print(\"For a\", years, \"year mortgage loan of $\", principal)\n",
    "    \n",
    "    print(\"at an annual interest rate of\", interest, \"%\")\n",
    "    \n",
    "    print(\"you pay\")\n",
    "    \n",
    "    print(\"$\", monthly_payment, \"monthly\")\n",
    "    \n",
    "    print(\"----------------------------------------\")\n",
    "    \n",
    "    print(\"Total amount paid will be $\", total_paid)\n",
    "    \n",
    "    print(\"----------------------------------------\")\n",
    "\n",
    " # And then let's call our function with parameters of principal, interest, years   \n",
    "mortgage_calculator(100000, 7.5, 30)"
   ]
  },
  {
   "cell_type": "code",
   "execution_count": null,
   "id": "631f0db7",
   "metadata": {},
   "outputs": [],
   "source": []
  },
  {
   "cell_type": "code",
   "execution_count": null,
   "id": "589245c4",
   "metadata": {},
   "outputs": [],
   "source": []
  }
 ],
 "metadata": {
  "kernelspec": {
   "display_name": "Python 3 (ipykernel)",
   "language": "python",
   "name": "python3"
  },
  "language_info": {
   "codemirror_mode": {
    "name": "ipython",
    "version": 3
   },
   "file_extension": ".py",
   "mimetype": "text/x-python",
   "name": "python",
   "nbconvert_exporter": "python",
   "pygments_lexer": "ipython3",
   "version": "3.11.0"
  }
 },
 "nbformat": 4,
 "nbformat_minor": 5
}
